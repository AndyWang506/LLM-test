{
 "cells": [
  {
   "cell_type": "code",
   "execution_count": 1,
   "id": "75b09c49-2bbe-46af-a478-179c361c3fdc",
   "metadata": {},
   "outputs": [
    {
     "name": "stdout",
     "output_type": "stream",
     "text": [
      "mps\n"
     ]
    }
   ],
   "source": [
    "import torch\n",
    "import numpy as np\n",
    "import time\n",
    "from torch.nn import functional as F\n",
    "device = 'mps' if torch.backends.mps.is_available() else 'cpu'\n",
    "print(device)"
   ]
  },
  {
   "cell_type": "code",
   "execution_count": 9,
   "id": "ed8e7f29-640b-4b56-a9ed-011de72266ae",
   "metadata": {},
   "outputs": [
    {
     "name": "stdout",
     "output_type": "stream",
     "text": [
      "0.00066495\n",
      "CPU times: user 1.18 ms, sys: 567 µs, total: 1.75 ms\n",
      "Wall time: 1.33 ms\n"
     ]
    }
   ],
   "source": [
    "%%time\n",
    "# method of getting time diff\n",
    "start_time = time.time()\n",
    "# matrix operations here\n",
    "zeros = torch.zeros(1,1)\n",
    "end_time = time.time()\n",
    "\n",
    "elapsed_time = end_time - start_time\n",
    "print(f\"{elapsed_time:.8f}\")"
   ]
  },
  {
   "cell_type": "code",
   "execution_count": 8,
   "id": "bf3ca94f-085b-43db-997c-6ebd25e84d87",
   "metadata": {},
   "outputs": [
    {
     "name": "stdout",
     "output_type": "stream",
     "text": [
      "0.01035380\n",
      "0.09004688\n"
     ]
    }
   ],
   "source": [
    "# measures difference between GPU & CPU\n",
    "torch_rand1 = torch.rand(100, 100, 100, 100).to(device)\n",
    "torch_rand2 = torch.rand(100, 100, 100, 100).to(device)\n",
    "np_rand1 = torch.rand(100, 100, 100, 100)\n",
    "np_rand2 = torch.rand(100, 100, 100, 100)\n",
    "\n",
    "# Using MPS(GPU)\n",
    "start_time = time.time()\n",
    "\n",
    "rand = (torch_rand1 @ torch_rand2)    # @ -> do matrix multiplication\n",
    "\n",
    "end_time = time.time()\n",
    "\n",
    "elapsed_time = end_time - start_time\n",
    "print(f\"{elapsed_time:.8f}\")\n",
    "\n",
    "\n",
    "# Using CPU\n",
    "start_time = time.time()\n",
    "\n",
    "rand = np.multiply(np_rand1, np_rand2)\n",
    "\n",
    "end_time = time.time()\n",
    "\n",
    "elapsed_time = end_time - start_time\n",
    "print(f\"{elapsed_time:.8f}\")"
   ]
  },
  {
   "cell_type": "code",
   "execution_count": 17,
   "id": "15f88858-0c03-483d-8975-920ccfcf70ab",
   "metadata": {},
   "outputs": [],
   "source": [
    "# (Show all examples of functions/methods with pytorch docs)\n",
    "# torch.stack, torch.multinomial, torch.tril, torch.triu, input.T/input.transpose, nn.Linear, torch.cat, F.softmax"
   ]
  },
  {
   "cell_type": "code",
   "execution_count": 14,
   "id": "990bf13c-2a7e-469c-bbf6-15d125f43a37",
   "metadata": {},
   "outputs": [
    {
     "name": "stdout",
     "output_type": "stream",
     "text": [
      "tensor([1, 1, 1, 1, 1, 1, 1, 1, 0, 1])\n"
     ]
    }
   ],
   "source": [
    "# Define probability tensor\n",
    "probabilities = torch.tensor([0.1, 0.9])\n",
    "# 10% or 0.1 -> 0, 90% or 0.9 -> 1. Each probability points to the index of probability in the tensor\n",
    "# Draw 5 samples from the multinomial distribution\n",
    "samples = torch.multinomial(probabilities, num_samples=10, replacement=True)\n",
    "print(samples)"
   ]
  },
  {
   "cell_type": "code",
   "execution_count": 24,
   "id": "ed8097d1-caf5-41d8-9f4f-cfaa36f1f348",
   "metadata": {},
   "outputs": [
    {
     "data": {
      "text/plain": [
       "tensor([1, 2, 3, 4, 5])"
      ]
     },
     "execution_count": 24,
     "metadata": {},
     "output_type": "execute_result"
    }
   ],
   "source": [
    "# Concatenate two tensors into one\n",
    "tensor = torch.tensor([1,2,3,4])\n",
    "output = torch.cat((tensor, torch.tensor([5])), dim=0)\n",
    "output"
   ]
  },
  {
   "cell_type": "code",
   "execution_count": 30,
   "id": "41e08d4a-9627-4164-8ced-369bce9277bd",
   "metadata": {},
   "outputs": [
    {
     "data": {
      "text/plain": [
       "tensor([[1., 0., 0., 0., 0.],\n",
       "        [1., 1., 0., 0., 0.],\n",
       "        [1., 1., 1., 0., 0.],\n",
       "        [1., 1., 1., 1., 0.],\n",
       "        [1., 1., 1., 1., 1.]])"
      ]
     },
     "execution_count": 30,
     "metadata": {},
     "output_type": "execute_result"
    }
   ],
   "source": [
    "# Lower triangular\n",
    "output = torch.tril(torch.ones(5,5))\n",
    "output"
   ]
  },
  {
   "cell_type": "code",
   "execution_count": 31,
   "id": "2ab21db7-e100-48dd-a83a-a2b5092a1f5c",
   "metadata": {},
   "outputs": [
    {
     "data": {
      "text/plain": [
       "tensor([[1., 1., 1., 1., 1.],\n",
       "        [0., 1., 1., 1., 1.],\n",
       "        [0., 0., 1., 1., 1.],\n",
       "        [0., 0., 0., 1., 1.],\n",
       "        [0., 0., 0., 0., 1.]])"
      ]
     },
     "execution_count": 31,
     "metadata": {},
     "output_type": "execute_result"
    }
   ],
   "source": [
    "# Upper triangular\n",
    "output = torch.triu(torch.ones(5,5))\n",
    "output"
   ]
  },
  {
   "cell_type": "code",
   "execution_count": 35,
   "id": "5f9311c3-46cd-4d7a-b4a6-0162ddd20cac",
   "metadata": {},
   "outputs": [
    {
     "data": {
      "text/plain": [
       "tensor([[0., -inf, -inf, -inf, -inf],\n",
       "        [0., 0., -inf, -inf, -inf],\n",
       "        [0., 0., 0., -inf, -inf],\n",
       "        [0., 0., 0., 0., -inf],\n",
       "        [0., 0., 0., 0., 0.]])"
      ]
     },
     "execution_count": 35,
     "metadata": {},
     "output_type": "execute_result"
    }
   ],
   "source": [
    "# masked_fill\n",
    "# Exponential to get lower/upper triangular -> eg. e的0次方 = 1, e的負無限次方 = 0\n",
    "output_for_e = torch.zeros(5,5).masked_fill(torch.tril(torch.ones(5,5)) == 0, float('-inf'))\n",
    "output_for_e"
   ]
  },
  {
   "cell_type": "code",
   "execution_count": 36,
   "id": "e7578dd2-df2a-4b3f-9b9b-2eb401bb3d29",
   "metadata": {},
   "outputs": [
    {
     "data": {
      "text/plain": [
       "tensor([[1., 0., 0., 0., 0.],\n",
       "        [1., 1., 0., 0., 0.],\n",
       "        [1., 1., 1., 0., 0.],\n",
       "        [1., 1., 1., 1., 0.],\n",
       "        [1., 1., 1., 1., 1.]])"
      ]
     },
     "execution_count": 36,
     "metadata": {},
     "output_type": "execute_result"
    }
   ],
   "source": [
    "torch.exp(output_for_e)"
   ]
  },
  {
   "cell_type": "code",
   "execution_count": 40,
   "id": "a3235c45-f023-47d5-863d-232b8a0a94d4",
   "metadata": {},
   "outputs": [
    {
     "data": {
      "text/plain": [
       "torch.Size([4, 3, 2])"
      ]
     },
     "execution_count": 40,
     "metadata": {},
     "output_type": "execute_result"
    }
   ],
   "source": [
    "input = torch.zeros(2,3,4)    # 2個矩陣，3 rows，4 columns\n",
    "out = input.transpose(0,2)    # -> (4,3,2), 0 index change with 2 index\n",
    "out.shape"
   ]
  },
  {
   "cell_type": "code",
   "execution_count": 41,
   "id": "1f39913c-0116-45c5-b40a-8ef26f45a969",
   "metadata": {},
   "outputs": [
    {
     "data": {
      "text/plain": [
       "tensor([[1, 2, 3],\n",
       "        [4, 5, 6],\n",
       "        [7, 8, 9]])"
      ]
     },
     "execution_count": 41,
     "metadata": {},
     "output_type": "execute_result"
    }
   ],
   "source": [
    "# torch.stack\n",
    "# We use this to stack multiple vertors into one matrix (block)\n",
    "tensor1 = torch.tensor([1,2,3])\n",
    "tensor2 = torch.tensor([4,5,6])\n",
    "tensor3 = torch.tensor([7,8,9])\n",
    "\n",
    "# Stack the tensors along a new dimension\n",
    "stacked_tensor = torch.stack([tensor1, tensor2, tensor3])\n",
    "stacked_tensor"
   ]
  },
  {
   "cell_type": "code",
   "execution_count": 44,
   "id": "49567d1f-0402-4c51-9e06-54d608150ad3",
   "metadata": {},
   "outputs": [
    {
     "name": "stdout",
     "output_type": "stream",
     "text": [
      "tensor([-5.8418, 11.1823, -4.0782], grad_fn=<SqueezeBackward4>)\n"
     ]
    }
   ],
   "source": [
    "# nn.Linear function\n",
    "import torch.nn as nn\n",
    "sample = torch.tensor([10., 10., 10.])\n",
    "linear = nn.Linear(3, 3, bias=False)    # bias->weight\n",
    "print(linear(sample))"
   ]
  },
  {
   "cell_type": "code",
   "execution_count": 52,
   "id": "49b11cf7-31b8-44b0-94f4-c7162e42311e",
   "metadata": {},
   "outputs": [
    {
     "name": "stdout",
     "output_type": "stream",
     "text": [
      "tensor([0.0900, 0.2447, 0.6652])\n"
     ]
    }
   ],
   "source": [
    "# softmax function\n",
    "\n",
    "# if we had [1,2,3], get the exponential of those(e^1,e^2,e^3) and add them up to have a sum(29.5).\n",
    "# divide each exponentiated elements by the sum to get new [x,y,z]\n",
    "import torch.nn.functional as F\n",
    "\n",
    "# Create a tensor\n",
    "tensor1 = torch.tensor([1.0, 2.0, 3.0])\n",
    "\n",
    "# Apply softmax using torch.functional.softmax()\n",
    "softmax_output = F.softmax(tensor1, dim=0)\n",
    "\n",
    "print(softmax_output)"
   ]
  },
  {
   "cell_type": "code",
   "execution_count": 51,
   "id": "4fbcf63f-9777-40b4-8aa8-02dcdea20eda",
   "metadata": {},
   "outputs": [
    {
     "name": "stdout",
     "output_type": "stream",
     "text": [
      "torch.Size([5, 100])\n"
     ]
    }
   ],
   "source": [
    "# Embedding vectors\n",
    "import torch\n",
    "import torch.nn as nn\n",
    "\n",
    "# Suppose you have a vocabulary size of 10000 and want to represent words with 100-dimensional embeddings\n",
    "num_embeddings=10000\n",
    "embedding_dim=100\n",
    "embedding = nn.Embedding(num_embeddings, embedding_dim)\n",
    "\n",
    "# Input tensor with token indices\n",
    "input_indices = torch.tensor([1, 5, 3, 7, 2])\n",
    "\n",
    "# Forward pass through the embedding layer\n",
    "embedded_vectors = embedding(input_indices)\n",
    "\n",
    "print(embedded_vectors.shape)"
   ]
  },
  {
   "cell_type": "code",
   "execution_count": 56,
   "id": "6af76bd4-1c7f-45d4-aec7-0ccfde44b910",
   "metadata": {},
   "outputs": [
    {
     "name": "stdout",
     "output_type": "stream",
     "text": [
      "tensor([[ 27,  30,  33],\n",
      "        [ 61,  68,  75],\n",
      "        [ 95, 106, 117]])\n"
     ]
    }
   ],
   "source": [
    "a = torch.tensor([[1,2], [3,4], [5,6]])\n",
    "b = torch.tensor([[7,8,9], [10,11,12]])\n",
    "print(torch.matmul(a,b)) # equals print(a @ b)"
   ]
  },
  {
   "cell_type": "code",
   "execution_count": 63,
   "id": "034889d9-8b68-4be2-aa64-e314c4bf05fa",
   "metadata": {},
   "outputs": [
    {
     "name": "stdout",
     "output_type": "stream",
     "text": [
      "tensor([[0., 0., 0.],\n",
      "        [0., 0., 0.],\n",
      "        [0., 0., 0.]])\n"
     ]
    }
   ],
   "source": [
    "# pytorch does not support integer @ float\n",
    "# int_64 = torch.randint(1,(3,2)) will give int -> dtype = int64\n",
    "\n",
    "int_64 = torch.randint(1,(3,2)).float()\n",
    "# type float32\n",
    "float_32 = torch.rand(2,3)\n",
    "# type float32\n",
    "\n",
    "# print(int_64.dtype, float_32.dtype)\n",
    "result = int_64 @ float_32\n",
    "print(result)"
   ]
  },
  {
   "cell_type": "code",
   "execution_count": 65,
   "id": "7ccac321-aa63-4405-ad54-1bb769a6ecf9",
   "metadata": {},
   "outputs": [
    {
     "name": "stdout",
     "output_type": "stream",
     "text": [
      "2 3 5\n",
      "torch.Size([2, 3, 5])\n"
     ]
    }
   ],
   "source": [
    "a = torch.rand(2 ,3, 5)\n",
    "x, y, z = a.shape\n",
    "a = a.view(x,y,z)\n",
    "print(x,y,z)\n",
    "print(a.shape)"
   ]
  },
  {
   "cell_type": "code",
   "execution_count": 4,
   "id": "7923555a-cff5-441a-8d95-29f14b6fe89c",
   "metadata": {},
   "outputs": [
    {
     "name": "stdout",
     "output_type": "stream",
     "text": [
      "tensor([0.4875])\n"
     ]
    }
   ],
   "source": [
    "# torch.nn.functional.sigmoid -> Sigmoid(x)=σ(x)= 1/(1+exp(−x))\n",
    "x = torch.tensor([-0.05], dtype=torch.float32)\n",
    "y = F.sigmoid(x)\n",
    "print(y)"
   ]
  },
  {
   "cell_type": "code",
   "execution_count": 5,
   "id": "1fa9868e-c154-40c9-8aa9-d71dc7146980",
   "metadata": {},
   "outputs": [
    {
     "name": "stdout",
     "output_type": "stream",
     "text": [
      "tensor([0.7616])\n"
     ]
    }
   ],
   "source": [
    "# torch.nn.functional.tanh\n",
    "x = torch.tensor([1], dtype=torch.float32)\n",
    "y = F.tanh(x)\n",
    "print(y)"
   ]
  },
  {
   "cell_type": "code",
   "execution_count": null,
   "id": "1ca16ff6-bbbf-4a00-897f-aa5424a9b453",
   "metadata": {},
   "outputs": [],
   "source": []
  }
 ],
 "metadata": {
  "kernelspec": {
   "display_name": "cuda-gpt",
   "language": "python",
   "name": "venv"
  },
  "language_info": {
   "codemirror_mode": {
    "name": "ipython",
    "version": 3
   },
   "file_extension": ".py",
   "mimetype": "text/x-python",
   "name": "python",
   "nbconvert_exporter": "python",
   "pygments_lexer": "ipython3",
   "version": "3.10.9"
  }
 },
 "nbformat": 4,
 "nbformat_minor": 5
}
