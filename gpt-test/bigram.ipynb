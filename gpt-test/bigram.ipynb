{
 "cells": [
  {
   "cell_type": "code",
   "execution_count": 1,
   "metadata": {},
   "outputs": [
    {
     "name": "stdout",
     "output_type": "stream",
     "text": [
      "mps\n"
     ]
    }
   ],
   "source": [
    "import torch\n",
    "import torch.nn as nn\n",
    "from torch.nn import functional as F\n",
    "device = 'mps' if torch.backends.mps.is_available() else 'cpu'\n",
    "print(device)\n",
    "block_size = 8\n",
    "batch_size = 4\n",
    "max_iters = 1000\n",
    "# eval_interval = 2500\n",
    "learning_rate = 3e-4\n",
    "eval_iters = 250"
   ]
  },
  {
   "cell_type": "code",
   "execution_count": 2,
   "metadata": {
    "scrolled": true
   },
   "outputs": [
    {
     "name": "stdout",
     "output_type": "stream",
     "text": [
      "['\\n', ' ', '!', '\"', '&', \"'\", '(', ')', '*', ',', '-', '.', '0', '1', '2', '3', '4', '5', '6', '7', '8', '9', ':', ';', '?', 'A', 'B', 'C', 'D', 'E', 'F', 'G', 'H', 'I', 'J', 'K', 'L', 'M', 'N', 'O', 'P', 'Q', 'R', 'S', 'T', 'U', 'V', 'W', 'X', 'Y', 'Z', '[', ']', '_', 'a', 'b', 'c', 'd', 'e', 'f', 'g', 'h', 'i', 'j', 'k', 'l', 'm', 'n', 'o', 'p', 'q', 'r', 's', 't', 'u', 'v', 'w', 'x', 'y', 'z']\n"
     ]
    }
   ],
   "source": [
    "with open(\"wizard_of_oz.txt\", \"r\", encoding = \"utf-8\") as f:\n",
    "    text = f.read()\n",
    "chars = sorted(set(text))\n",
    "print(chars)\n",
    "vocab_size = len(chars)\n"
   ]
  },
  {
   "cell_type": "code",
   "execution_count": 3,
   "metadata": {},
   "outputs": [
    {
     "name": "stdout",
     "output_type": "stream",
     "text": [
      "tensor([ 1,  1, 28, 39, 42, 39, 44, 32, 49,  1, 25, 38, 28,  1, 44, 32, 29,  1,\n",
      "        47, 33, 50, 25, 42, 28,  1, 33, 38,  1, 39, 50,  0,  0,  1,  1, 26, 49,\n",
      "         0,  0,  1,  1, 36, 11,  1, 30, 42, 25, 38, 35,  1, 26, 25, 45, 37,  0,\n",
      "         0,  1,  1, 25, 45, 44, 32, 39, 42,  1, 39, 30,  1, 44, 32, 29,  1, 47,\n",
      "        33, 50, 25, 42, 28,  1, 39, 30,  1, 39, 50,  9,  1, 44, 32, 29,  1, 36,\n",
      "        25, 38, 28,  1, 39, 30,  1, 39, 50,  9])\n"
     ]
    }
   ],
   "source": [
    "# character level tokenizers, initialize the encoder & decoder\n",
    "string_to_int = { ch:i for i, ch in enumerate(chars) }    # for loops\n",
    "int_to_string = { i:ch for i, ch in enumerate(chars) }\n",
    "encode = lambda s : [string_to_int[c] for c in s]\n",
    "decode = lambda l : ''.join([int_to_string[i] for i in l])\n",
    "\n",
    "data = torch.tensor(encode(text), dtype = torch.long)\n",
    "print(data[:100])"
   ]
  },
  {
   "cell_type": "code",
   "execution_count": 4,
   "metadata": {},
   "outputs": [
    {
     "name": "stdout",
     "output_type": "stream",
     "text": [
      "inputs:\n",
      "tensor([[72, 73, 71, 54, 73, 62, 68, 67],\n",
      "        [71, 65, 11,  1,  3, 32, 58,  5],\n",
      "        [ 1, 73, 68, 65, 57,  0, 74, 72],\n",
      "        [71, 54, 55, 65, 58,  1, 68, 59]], device='mps:0')\n",
      "targets:\n",
      "tensor([[73, 71, 54, 73, 62, 68, 67, 52],\n",
      "        [65, 11,  1,  3, 32, 58,  5, 72],\n",
      "        [73, 68, 65, 57,  0, 74, 72,  1],\n",
      "        [54, 55, 65, 58,  1, 68, 59,  1]], device='mps:0')\n"
     ]
    }
   ],
   "source": [
    "n = int(0.8*len(data))\n",
    "train_data = data[:n]    # 訓練佔80%\n",
    "validation_data = data[n:]    # 評估佔20%\n",
    "\n",
    "\n",
    "# Get batches\n",
    "def get_Batch(split):\n",
    "    data = train_data if split == 'train' else validation_data\n",
    "    ix = torch.randint(len(data) - block_size, (batch_size,))\n",
    "    # print(ix)\n",
    "    x = torch.stack([data[i:i+block_size] for i in ix])\n",
    "    y = torch.stack([data[i+1:i+block_size+1] for i in ix])\n",
    "    x,y = x.to(device), y.to(device)\n",
    "    return x, y\n",
    "\n",
    "x,y = get_Batch('train')\n",
    "print('inputs:')\n",
    "print(x)\n",
    "print('targets:')\n",
    "print(y)"
   ]
  },
  {
   "cell_type": "code",
   "execution_count": 5,
   "metadata": {},
   "outputs": [],
   "source": [
    "\n",
    "# x = train_data[:block_size]\n",
    "# y = train_data[1:block_size+1]\n",
    "\n",
    "# for t in range(block_size):\n",
    "#     context = x[:t+1]\n",
    "#     target = y[t]\n",
    "#     print('When input is', context, 'target is', target)"
   ]
  },
  {
   "cell_type": "code",
   "execution_count": 6,
   "metadata": {},
   "outputs": [],
   "source": [
    " # we are only reporting the losses, just to make sure it's not using any gradients here\n",
    "@torch.no_grad()\n",
    "def estimate_loss():\n",
    "    out = {}\n",
    "    model.eval()\n",
    "    for split in ['train', 'val']:\n",
    "        losses = torch.zeros(eval_iters)\n",
    "        for k in range(eval_iters):\n",
    "            X, Y = get_Batch(split)\n",
    "            logits, loss = model(X, Y)\n",
    "            losses[k] = loss.item()\n",
    "        out[split] = losses.mean()\n",
    "    model.train()\n",
    "    return out"
   ]
  },
  {
   "cell_type": "code",
   "execution_count": 7,
   "metadata": {},
   "outputs": [
    {
     "name": "stdout",
     "output_type": "stream",
     "text": [
      "\n",
      "[T851WZL*0Vk'AI9bQOH-,y]T-]K_8H1l.aBWv.ALxZT6uhC'u,xS:AKsB?jC* e-[Gazg;OQv&s7Jc\"jx*SfHpst0tmkHQ)s7x&XY\n",
      "XV0jxDUL85Q[y2.s3?4Pwp:\n",
      ").5jCyutHeSj3I9iS;*,?2D00xX.q(FA3plXKBfg]mOPwi85P8\n",
      ")t-;_5I5J_TLtggo1Dpcd785)tO1JmBU3lC!rx4p-oTrslskN Ji6mi]FI5jkzOnfIQhQcB-I2lb'o&jZbBRy?6\n",
      "PXBacAAfI[I!m9(.4):g!cR-)4&X2N?r&f!'q2nWg8t!;QM?2zjb5y2.5o;IbSf,)QB;n_cXv8Pw?]Hei9ycteR9t7a'o[T6:Wij3m0H-?5\n",
      "MAh4QHcA,l75ukvhqu,9cZ_J m:gMw(;Ozjc:t&3'&3k\"Ir[Cy?94C;Oq;II9.m: J-c5Qeh0cXcTQN\n",
      "d\"-'6BVOr3WAn\n",
      "h_K5Gx_k?xv1Z1qI9c]PwW:rBxXRLtv8\n"
     ]
    }
   ],
   "source": [
    "# Initialize neural net, Logits and Reshaping\n",
    "# Generate function and give the model some context\n",
    "class BigramLanguageModel(nn.Module):\n",
    "    def __init__(self, vocab_size):\n",
    "        super().__init__()\n",
    "        self.token_embedding_table = nn.Embedding(vocab_size, vocab_size)\n",
    "\n",
    "    def forward(self, index, targets=None):\n",
    "        logits = self.token_embedding_table(index)\n",
    "\n",
    "        if targets is None:\n",
    "            loss = None\n",
    "        else:\n",
    "            B, T, C = logits.shape\n",
    "            # pytorch documentation requires 'shape' to be -> (N, C). N is the batches and C is the channel\n",
    "            # So we want B, C, T. We can combine B(batch) & T(time dimension) into N. Simply, multiply two peramerters\n",
    "            logits = logits.view(B*T, C)\n",
    "            targets = targets.view(B*T)\n",
    "            loss = F.cross_entropy(logits, targets)\n",
    "\n",
    "        return logits, loss\n",
    "\n",
    "    # generate token\n",
    "    def generate(self, index, max_new_tokens):\n",
    "        # index is (B, T) array of indices in the current context\n",
    "        for i in range(max_new_tokens):\n",
    "            # get the prediction\n",
    "            logits, loss = self.forward(index)\n",
    "            # focus only on the last time step\n",
    "            logits = logits[:, -1, :]    # become (B, C)\n",
    "            # apply softmax to get probability\n",
    "            probs = F.softmax(logits, dim=-1)   # (B, C)\n",
    "            # sample from the distribution\n",
    "            index_next = torch.multinomial(probs,num_samples=1)    # (B, 1)\n",
    "            # append sampled index to the running sequence\n",
    "            index = torch.cat((index, index_next), dim=-1)    # (B, T+1)\n",
    "        return index\n",
    "\n",
    "\n",
    "model = BigramLanguageModel(vocab_size)\n",
    "m = model.to(device)\n",
    "\n",
    "\n",
    "context = torch.zeros((1,1), dtype=torch.long, device=device)\n",
    "generated_chars = decode(m.generate(context, max_new_tokens=500)[0].tolist())\n",
    "print(generated_chars)"
   ]
  },
  {
   "cell_type": "code",
   "execution_count": 8,
   "metadata": {},
   "outputs": [
    {
     "name": "stdout",
     "output_type": "stream",
     "text": [
      "step: 0, train loss: 4.889, val loss: 4.887\n",
      "step: 250, train loss: 4.841, val loss: 4.808\n",
      "step: 500, train loss: 4.791, val loss: 4.784\n",
      "step: 750, train loss: 4.716, val loss: 4.681\n",
      "4.937317848205566\n"
     ]
    }
   ],
   "source": [
    "# create Pytorch optimizer\n",
    "optimizer = torch.optim.AdamW(model.parameters(), lr=learning_rate)\n",
    "\n",
    "# Standard training loop architecture for basic model\n",
    "# this is the training loop\n",
    "for iter in range(max_iters):\n",
    "    if iter % eval_iters == 0:\n",
    "        losses = estimate_loss()\n",
    "        print(f\"step: {iter}, train loss: {losses['train']:.3f}, val loss: {losses['val']:.3f}\")\n",
    "        \n",
    "    # sample a batch of data\n",
    "    xb, yb = get_Batch('train')\n",
    "\n",
    "    # evaluate the loss\n",
    "    logits, loss = model.forward(xb, yb)\n",
    "    optimizer.zero_grad(set_to_none=True)    # to make sure that the previous gradient does not add up the current one -> don't want accumulative gradients. Because the previous gradients are from previous data, sometimes those might be bias.\n",
    "    loss.backward()\n",
    "    optimizer.step()\n",
    "print(loss.item())"
   ]
  },
  {
   "cell_type": "code",
   "execution_count": 9,
   "metadata": {
    "scrolled": true
   },
   "outputs": [
    {
     "name": "stdout",
     "output_type": "stream",
     "text": [
      "\n",
      "ry9!gcT8ApN\n",
      "m*lT81_H1_NEV22222.L&\"?Rsv9\"ctv6uyP'6kPAZl o3'[tbY7xoUEst]uz*iuzjbyNPwen)zQ_zf'SfI1qAdFNBSjtx&'_nXv h_HNL*Gh3n\"hO5Afzjm922Et6s-lQ(_J_PjyP'zHZHpy?Z30iWu*,O,(v8B-r[em0.*q8xpI[.:SfrCAG!1Mb;QD[(;Zza9\n",
      "mQ[XylwQDJE[\n",
      "OE4-dW.MANrAPVcluImZb?k\"b'AAnBdZ(!v1)\n",
      ")fq:Mc\"WIoUZUEm01SnB.&37wdeI\"Br?]NLFp!a,';zueFxpwm6)okZLTMC!veteXq87isj[C0A_6a_y?Rhex0PVjcP5iyq]fz&qJ()s?vB.m?.*RxQrzq\"C*]TYBr?2\"G-V853Zm't6KD,75Gv53OrBQA5QNSd.*Nqy.7mk:gQJ,8BakIruZwW?p;VMAd34*]063nRp)I\"n]p-4!NF,'p)JQyG Jdd1fSXMV0FG hYEtUEN]\n"
     ]
    }
   ],
   "source": [
    "context = torch.zeros((1,1), dtype=torch.long, device=device)\n",
    "generated_chars = decode(m.generate(context, max_new_tokens=500)[0].tolist())\n",
    "print(generated_chars)"
   ]
  },
  {
   "cell_type": "code",
   "execution_count": null,
   "metadata": {},
   "outputs": [],
   "source": []
  }
 ],
 "metadata": {
  "kernelspec": {
   "display_name": "cuda-gpt",
   "language": "python",
   "name": "venv"
  },
  "language_info": {
   "codemirror_mode": {
    "name": "ipython",
    "version": 3
   },
   "file_extension": ".py",
   "mimetype": "text/x-python",
   "name": "python",
   "nbconvert_exporter": "python",
   "pygments_lexer": "ipython3",
   "version": "3.10.9"
  }
 },
 "nbformat": 4,
 "nbformat_minor": 4
}
